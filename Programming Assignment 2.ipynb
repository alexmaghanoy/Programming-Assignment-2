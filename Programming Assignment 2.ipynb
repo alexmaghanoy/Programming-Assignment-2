{
 "cells": [
  {
   "cell_type": "markdown",
   "id": "0fe8ec43-131e-48c8-858b-8c8d1fe17afd",
   "metadata": {},
   "source": [
    "### PROGRAMMING ASSIGNMENT 2 - Numpy"
   ]
  },
  {
   "cell_type": "markdown",
   "id": "456fe810-9db2-4d70-b223-53a7f0e01b92",
   "metadata": {},
   "source": [
    "#### Normalization Problem"
   ]
  },
  {
   "cell_type": "code",
   "execution_count": 2,
   "id": "0352b534-4f0e-49e1-8ba3-e0acdb1e6f6a",
   "metadata": {},
   "outputs": [],
   "source": [
    "import numpy as np"
   ]
  },
  {
   "cell_type": "code",
   "execution_count": 8,
   "id": "dae5d1f0-f8da-450c-80d1-0466a648fa0f",
   "metadata": {},
   "outputs": [],
   "source": [
    "X = np.random.random((5,5))"
   ]
  },
  {
   "cell_type": "code",
   "execution_count": 22,
   "id": "86ef5a0b-def0-4733-926b-d6c74a2524a0",
   "metadata": {},
   "outputs": [],
   "source": [
    "mean = X.mean()"
   ]
  },
  {
   "cell_type": "code",
   "execution_count": 24,
   "id": "917d25d7-ad9d-4de6-9bed-2703faeca820",
   "metadata": {},
   "outputs": [],
   "source": [
    "std = X.std()"
   ]
  },
  {
   "cell_type": "code",
   "execution_count": 80,
   "id": "6a6ca085-ce7f-45ad-997b-bcbea189e549",
   "metadata": {},
   "outputs": [],
   "source": [
    "Z = (X - mean) / std"
   ]
  },
  {
   "cell_type": "code",
   "execution_count": 82,
   "id": "abe21739-0155-4aed-9afc-98291c1ceff6",
   "metadata": {},
   "outputs": [
    {
     "name": "stdout",
     "output_type": "stream",
     "text": [
      "Original Matrix:\n",
      " [[0.72480725 0.03867405 0.17773795 0.62407131 0.45849654]\n",
      " [0.39064809 0.73046588 0.49311497 0.68549487 0.55024703]\n",
      " [0.09210944 0.77120057 0.69192793 0.72208122 0.99543377]\n",
      " [0.75869288 0.26874554 0.43913705 0.11568715 0.30398433]\n",
      " [0.9871721  0.36987108 0.46504686 0.49085036 0.42432174]]\n"
     ]
    }
   ],
   "source": [
    "print(\"Original Matrix:\\n\", X)"
   ]
  },
  {
   "cell_type": "code",
   "execution_count": 84,
   "id": "26b3aae7-a011-4bcc-a5de-46bfa71378f6",
   "metadata": {},
   "outputs": [
    {
     "name": "stdout",
     "output_type": "stream",
     "text": [
      "Normalized Matrix:\n",
      "  [[ 0.83900821 -1.85096391 -1.30576654  0.44407487 -0.20505784]\n",
      " [-0.47105639  0.86119276 -0.06933695  0.68488478  0.15464819]\n",
      " [-1.64147147  1.02089232  0.71010547  0.82832084  1.89999431]\n",
      " [ 0.97185617 -0.94897302 -0.28095634 -1.54903551 -0.81082001]\n",
      " [ 1.86760458 -0.55251228 -0.17937746 -0.07821533 -0.33903948]]\n"
     ]
    }
   ],
   "source": [
    "print (\"Normalized Matrix:\\n \", Z)"
   ]
  },
  {
   "cell_type": "code",
   "execution_count": 90,
   "id": "08a8f7b9-9518-4d1c-b908-cb40e08c3559",
   "metadata": {},
   "outputs": [],
   "source": [
    "np.save('X_normalized.npy', X)"
   ]
  },
  {
   "cell_type": "code",
   "execution_count": 94,
   "id": "c474a639-e309-459d-9652-43c344b60c34",
   "metadata": {},
   "outputs": [
    {
     "data": {
      "text/plain": [
       "array([[0.72480725, 0.03867405, 0.17773795, 0.62407131, 0.45849654],\n",
       "       [0.39064809, 0.73046588, 0.49311497, 0.68549487, 0.55024703],\n",
       "       [0.09210944, 0.77120057, 0.69192793, 0.72208122, 0.99543377],\n",
       "       [0.75869288, 0.26874554, 0.43913705, 0.11568715, 0.30398433],\n",
       "       [0.9871721 , 0.36987108, 0.46504686, 0.49085036, 0.42432174]])"
      ]
     },
     "execution_count": 94,
     "metadata": {},
     "output_type": "execute_result"
    }
   ],
   "source": [
    "data = np.load('X_normalized.npy')\n",
    "data"
   ]
  },
  {
   "cell_type": "markdown",
   "id": "f3007cae-2a70-49e6-8c2f-c9f89b34e10f",
   "metadata": {},
   "source": [
    "#### Divisible by 3 Problem"
   ]
  },
  {
   "cell_type": "code",
   "execution_count": 99,
   "id": "e7570919-407b-4c18-b15c-42761f73ffca",
   "metadata": {},
   "outputs": [],
   "source": [
    "import numpy as np"
   ]
  },
  {
   "cell_type": "code",
   "execution_count": 101,
   "id": "31407806-8199-46ef-8f49-b46eb8329534",
   "metadata": {},
   "outputs": [],
   "source": [
    "A = np.arange(1,101).reshape(10,10)**2"
   ]
  },
  {
   "cell_type": "code",
   "execution_count": 103,
   "id": "ebb0c92d-7e20-4ab6-8f28-9cf8084cac4e",
   "metadata": {},
   "outputs": [],
   "source": [
    "Y = A[A % 3 == 0]"
   ]
  },
  {
   "cell_type": "code",
   "execution_count": 105,
   "id": "e05e95c7-4ee5-4547-8718-382e033e469e",
   "metadata": {},
   "outputs": [
    {
     "name": "stdout",
     "output_type": "stream",
     "text": [
      "Original Matrix: \n",
      " [[    1     4     9    16    25    36    49    64    81   100]\n",
      " [  121   144   169   196   225   256   289   324   361   400]\n",
      " [  441   484   529   576   625   676   729   784   841   900]\n",
      " [  961  1024  1089  1156  1225  1296  1369  1444  1521  1600]\n",
      " [ 1681  1764  1849  1936  2025  2116  2209  2304  2401  2500]\n",
      " [ 2601  2704  2809  2916  3025  3136  3249  3364  3481  3600]\n",
      " [ 3721  3844  3969  4096  4225  4356  4489  4624  4761  4900]\n",
      " [ 5041  5184  5329  5476  5625  5776  5929  6084  6241  6400]\n",
      " [ 6561  6724  6889  7056  7225  7396  7569  7744  7921  8100]\n",
      " [ 8281  8464  8649  8836  9025  9216  9409  9604  9801 10000]]\n"
     ]
    }
   ],
   "source": [
    "print(\"Original Matrix: \\n\", A)"
   ]
  },
  {
   "cell_type": "code",
   "execution_count": 107,
   "id": "1b773944-6392-4125-b19f-aed9b522c6b1",
   "metadata": {},
   "outputs": [
    {
     "name": "stdout",
     "output_type": "stream",
     "text": [
      "Divisible by 3 Matrix: \n",
      " [   9   36   81  144  225  324  441  576  729  900 1089 1296 1521 1764\n",
      " 2025 2304 2601 2916 3249 3600 3969 4356 4761 5184 5625 6084 6561 7056\n",
      " 7569 8100 8649 9216 9801]\n"
     ]
    }
   ],
   "source": [
    "print(\"Divisible by 3 Matrix: \\n\", Y)"
   ]
  },
  {
   "cell_type": "code",
   "execution_count": 109,
   "id": "827815e5-73c3-466c-bf63-d48093c9f643",
   "metadata": {},
   "outputs": [],
   "source": [
    "np.save('div_by_3.npy', Y)"
   ]
  },
  {
   "cell_type": "code",
   "execution_count": 111,
   "id": "05fc072b-fd76-4230-accf-79b8d367af9d",
   "metadata": {},
   "outputs": [
    {
     "data": {
      "text/plain": [
       "array([   9,   36,   81,  144,  225,  324,  441,  576,  729,  900, 1089,\n",
       "       1296, 1521, 1764, 2025, 2304, 2601, 2916, 3249, 3600, 3969, 4356,\n",
       "       4761, 5184, 5625, 6084, 6561, 7056, 7569, 8100, 8649, 9216, 9801])"
      ]
     },
     "execution_count": 111,
     "metadata": {},
     "output_type": "execute_result"
    }
   ],
   "source": [
    "data = np.load('div_by_3.npy')\n",
    "data"
   ]
  }
 ],
 "metadata": {
  "kernelspec": {
   "display_name": "Python 3 (ipykernel)",
   "language": "python",
   "name": "python3"
  },
  "language_info": {
   "codemirror_mode": {
    "name": "ipython",
    "version": 3
   },
   "file_extension": ".py",
   "mimetype": "text/x-python",
   "name": "python",
   "nbconvert_exporter": "python",
   "pygments_lexer": "ipython3",
   "version": "3.12.4"
  }
 },
 "nbformat": 4,
 "nbformat_minor": 5
}
