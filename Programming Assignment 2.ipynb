{
 "cells": [
  {
   "cell_type": "markdown",
   "id": "0fe8ec43-131e-48c8-858b-8c8d1fe17afd",
   "metadata": {},
   "source": [
    "### PROGRAMMING ASSIGNMENT 2 - Numpy"
   ]
  },
  {
   "cell_type": "markdown",
   "id": "54710d19-2385-4af4-87ef-96b682412207",
   "metadata": {},
   "source": [
    "## Problem 1: Normalization Problem\n",
    "\n",
    "Normalization is a fundamental preprocessing technique in data analytics that involves two main steps:\n",
    "\n",
    "1. **Centering** :  Subtracting the mean of the data.\n",
    "2. **Scaling** :  Dividing by the standard deviation of the data.\n",
    "\n",
    "This process helps to standardize the data, making it easier to analyze or input into machine learning models. Mathematically, normalization can be expressed as:\n",
    "\n",
    "`Z = (𝑋−x̄) / 𝜎`\n",
    "\n",
    "where:\n",
    "- *X*  is the original data,\n",
    "- *x̄* is the mean of the data,\n",
    "- *𝜎* is the standard deviation of the data.\n",
    "\n",
    "#### Task:\n",
    "- Create a random 5 x 5 NumPy array and store it in a variable `X`.\n",
    "- Normalize the array `X` by centering and scaling it.\n",
    "- Save the normalized array to a file named `X_normalized.npy`.\n",
    "\n",
    "#### Example:\n",
    "To help understand the process, consider the following example:\n",
    "- If `X = [1, 2, 3, 4, 5]`, then the mean x̄ = `3.0` and standard deviation 𝜎 = `1.4142135623730951`.\n",
    "- The normalized values *Z* would be `[-1.41421356 -0.70710678  0.  0.70710678  1.41421356]`.\n",
    "\n",
    "#### Expected Output:\n",
    "- The normalized array should have a mean of approximately 0 and a standard deviation of 1.\n",
    "\n",
    "Use Python's `.mean()` and `.std()` functions to calculate the mean and standard deviation element-wise.\n"
   ]
  },
  {
   "cell_type": "code",
   "execution_count": 3,
   "id": "0352b534-4f0e-49e1-8ba3-e0acdb1e6f6a",
   "metadata": {},
   "outputs": [],
   "source": [
    "import numpy as np"
   ]
  },
  {
   "cell_type": "code",
   "execution_count": 4,
   "id": "dae5d1f0-f8da-450c-80d1-0466a648fa0f",
   "metadata": {},
   "outputs": [],
   "source": [
    "X = np.random.random((5,5))"
   ]
  },
  {
   "cell_type": "code",
   "execution_count": 108,
   "id": "86ef5a0b-def0-4733-926b-d6c74a2524a0",
   "metadata": {},
   "outputs": [
    {
     "data": {
      "text/plain": [
       "0.587515648324913"
      ]
     },
     "execution_count": 108,
     "metadata": {},
     "output_type": "execute_result"
    }
   ],
   "source": [
    "mean = X.mean()"
   ]
  },
  {
   "cell_type": "code",
   "execution_count": 110,
   "id": "917d25d7-ad9d-4de6-9bed-2703faeca820",
   "metadata": {},
   "outputs": [
    {
     "data": {
      "text/plain": [
       "0.2457216174354048"
      ]
     },
     "execution_count": 110,
     "metadata": {},
     "output_type": "execute_result"
    }
   ],
   "source": [
    "std = X.std()"
   ]
  },
  {
   "cell_type": "code",
   "execution_count": 7,
   "id": "6a6ca085-ce7f-45ad-997b-bcbea189e549",
   "metadata": {},
   "outputs": [],
   "source": [
    "Z = (X - mean) / std"
   ]
  },
  {
   "cell_type": "code",
   "execution_count": 58,
   "id": "abe21739-0155-4aed-9afc-98291c1ceff6",
   "metadata": {},
   "outputs": [
    {
     "name": "stdout",
     "output_type": "stream",
     "text": [
      "Original Matrix:\n",
      "\n",
      " [[0.84953291 0.67058687 0.71519203 0.3455978  0.10195362]\n",
      " [0.59790012 0.51007256 0.5348443  0.19135817 0.96362612]\n",
      " [0.82586004 0.51988642 0.33519051 0.55776571 0.48713626]\n",
      " [0.85942038 0.28095948 0.851745   0.40814051 0.22918372]\n",
      " [0.83048146 0.97877931 0.5975819  0.85109004 0.59400596]]\n"
     ]
    }
   ],
   "source": [
    "print(\"Original Matrix:\\n\\n\", X)"
   ]
  },
  {
   "cell_type": "code",
   "execution_count": 60,
   "id": "26b3aae7-a011-4bcc-a5de-46bfa71378f6",
   "metadata": {},
   "outputs": [
    {
     "name": "stdout",
     "output_type": "stream",
     "text": [
      "Normalized Matrix:\n",
      "\n",
      "  [[ 1.06631749  0.33807045  0.51959766 -0.98452002 -1.97606557]\n",
      " [ 0.04226113 -0.31516595 -0.21435374 -1.6122207   1.53063648]\n",
      " [ 0.96997731 -0.275227   -1.02687401 -0.1210717  -0.40850858]\n",
      " [ 1.106556   -1.2475751   1.07531994 -0.7299933  -1.45828408]\n",
      " [ 0.98878484  1.5923046   0.04096609  1.07265448  0.02641327]]\n"
     ]
    }
   ],
   "source": [
    "print (\"Normalized Matrix:\\n\\n \", Z)"
   ]
  },
  {
   "cell_type": "code",
   "execution_count": 10,
   "id": "08a8f7b9-9518-4d1c-b908-cb40e08c3559",
   "metadata": {},
   "outputs": [],
   "source": [
    "np.save('X_normalized.npy', X)"
   ]
  },
  {
   "cell_type": "code",
   "execution_count": 11,
   "id": "c474a639-e309-459d-9652-43c344b60c34",
   "metadata": {},
   "outputs": [
    {
     "data": {
      "text/plain": [
       "array([[0.84953291, 0.67058687, 0.71519203, 0.3455978 , 0.10195362],\n",
       "       [0.59790012, 0.51007256, 0.5348443 , 0.19135817, 0.96362612],\n",
       "       [0.82586004, 0.51988642, 0.33519051, 0.55776571, 0.48713626],\n",
       "       [0.85942038, 0.28095948, 0.851745  , 0.40814051, 0.22918372],\n",
       "       [0.83048146, 0.97877931, 0.5975819 , 0.85109004, 0.59400596]])"
      ]
     },
     "execution_count": 11,
     "metadata": {},
     "output_type": "execute_result"
    }
   ],
   "source": [
    "data = np.load('X_normalized.npy')\n",
    "data"
   ]
  },
  {
   "cell_type": "markdown",
   "id": "b0f9e993-7741-4abc-bb01-d612a3b41870",
   "metadata": {},
   "source": [
    "## Problem 2: Divisible by 3 Problem\n",
    "\n",
    "In this problem, you will create a 10 x 10 NumPy array `A` that contains the squares of the first 100 positive integers.\n",
    "\n",
    "### Task:\n",
    "1.   Create a 10 x 10 ndarray `A` such that:\n",
    "- The first row contains the squares of the integers from 1 to 10.\n",
    "- The second row contains the squares of the integers from 11 to 20, and so on.\n",
    "   \n",
    "2.   Find all elements in this ndarray that are divisible by 3.\n",
    "3.   Save the resulting array to a file named `div_by_3.npy`.\n",
    "\n",
    "### Example:\n",
    "               A = \n",
    "     [1    4    ⋯   81    100\n",
    "      ⋮     ⋮    ⋱    ⋮      ⋮\n",
    "      ⋮     ⋮    ⋱    ⋮      ⋮ \n",
    "      ⋮     ⋮    ⋱    ⋮      ⋮\n",
    "    8281  8464  ⋯  9801  10000]\n",
    "\n",
    "\n",
    "### Finding Elements Divisible by 3:\n",
    "- To determine which elements are divisible by 3, you can use the modulus operator `%` in Python.\n",
    "- For example, if `A = [1, 4, 9, 16]`, elements divisible by 3 are `[9]`.\n",
    "\n",
    "### Expected Output:\n",
    "- A 1D array of elements from `A` that are divisible by 3, saved as `div_by_3.npy`."
   ]
  },
  {
   "cell_type": "code",
   "execution_count": 13,
   "id": "e7570919-407b-4c18-b15c-42761f73ffca",
   "metadata": {},
   "outputs": [],
   "source": [
    "import numpy as np"
   ]
  },
  {
   "cell_type": "code",
   "execution_count": 14,
   "id": "31407806-8199-46ef-8f49-b46eb8329534",
   "metadata": {},
   "outputs": [],
   "source": [
    "A = np.arange(1,101).reshape(10,10)**2"
   ]
  },
  {
   "cell_type": "code",
   "execution_count": 15,
   "id": "ebb0c92d-7e20-4ab6-8f28-9cf8084cac4e",
   "metadata": {},
   "outputs": [],
   "source": [
    "Y = A[A % 3 == 0]"
   ]
  },
  {
   "cell_type": "code",
   "execution_count": 16,
   "id": "e05e95c7-4ee5-4547-8718-382e033e469e",
   "metadata": {},
   "outputs": [
    {
     "name": "stdout",
     "output_type": "stream",
     "text": [
      "Original Matrix: \n",
      " [[    1     4     9    16    25    36    49    64    81   100]\n",
      " [  121   144   169   196   225   256   289   324   361   400]\n",
      " [  441   484   529   576   625   676   729   784   841   900]\n",
      " [  961  1024  1089  1156  1225  1296  1369  1444  1521  1600]\n",
      " [ 1681  1764  1849  1936  2025  2116  2209  2304  2401  2500]\n",
      " [ 2601  2704  2809  2916  3025  3136  3249  3364  3481  3600]\n",
      " [ 3721  3844  3969  4096  4225  4356  4489  4624  4761  4900]\n",
      " [ 5041  5184  5329  5476  5625  5776  5929  6084  6241  6400]\n",
      " [ 6561  6724  6889  7056  7225  7396  7569  7744  7921  8100]\n",
      " [ 8281  8464  8649  8836  9025  9216  9409  9604  9801 10000]]\n"
     ]
    }
   ],
   "source": [
    "print(\"Original Matrix: \\n\", A)"
   ]
  },
  {
   "cell_type": "code",
   "execution_count": 17,
   "id": "1b773944-6392-4125-b19f-aed9b522c6b1",
   "metadata": {},
   "outputs": [
    {
     "name": "stdout",
     "output_type": "stream",
     "text": [
      "Divisible by 3 Matrix: \n",
      " [   9   36   81  144  225  324  441  576  729  900 1089 1296 1521 1764\n",
      " 2025 2304 2601 2916 3249 3600 3969 4356 4761 5184 5625 6084 6561 7056\n",
      " 7569 8100 8649 9216 9801]\n"
     ]
    }
   ],
   "source": [
    "print(\"Divisible by 3 Matrix: \\n\", Y)"
   ]
  },
  {
   "cell_type": "code",
   "execution_count": 18,
   "id": "827815e5-73c3-466c-bf63-d48093c9f643",
   "metadata": {},
   "outputs": [],
   "source": [
    "np.save('div_by_3.npy', Y)"
   ]
  },
  {
   "cell_type": "code",
   "execution_count": 19,
   "id": "05fc072b-fd76-4230-accf-79b8d367af9d",
   "metadata": {},
   "outputs": [
    {
     "data": {
      "text/plain": [
       "array([   9,   36,   81,  144,  225,  324,  441,  576,  729,  900, 1089,\n",
       "       1296, 1521, 1764, 2025, 2304, 2601, 2916, 3249, 3600, 3969, 4356,\n",
       "       4761, 5184, 5625, 6084, 6561, 7056, 7569, 8100, 8649, 9216, 9801])"
      ]
     },
     "execution_count": 19,
     "metadata": {},
     "output_type": "execute_result"
    }
   ],
   "source": [
    "data = np.load('div_by_3.npy')\n",
    "data"
   ]
  }
 ],
 "metadata": {
  "kernelspec": {
   "display_name": "Python 3 (ipykernel)",
   "language": "python",
   "name": "python3"
  },
  "language_info": {
   "codemirror_mode": {
    "name": "ipython",
    "version": 3
   },
   "file_extension": ".py",
   "mimetype": "text/x-python",
   "name": "python",
   "nbconvert_exporter": "python",
   "pygments_lexer": "ipython3",
   "version": "3.12.4"
  }
 },
 "nbformat": 4,
 "nbformat_minor": 5
}
