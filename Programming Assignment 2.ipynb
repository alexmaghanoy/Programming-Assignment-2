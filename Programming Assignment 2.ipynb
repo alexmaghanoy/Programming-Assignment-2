{
 "cells": [
  {
   "cell_type": "markdown",
   "id": "0fe8ec43-131e-48c8-858b-8c8d1fe17afd",
   "metadata": {},
   "source": [
    "### PROGRAMMING ASSIGNMENT 2 - Numpy"
   ]
  },
  {
   "cell_type": "markdown",
   "id": "54710d19-2385-4af4-87ef-96b682412207",
   "metadata": {},
   "source": [
    "## Problem 1: Normalization Problem\n",
    "\n",
    "Normalization is a fundamental preprocessing technique in data analytics that involves two main steps:\n",
    "\n",
    "1. **Centering** :  Subtracting the mean of the data.\n",
    "2. **Scaling** :  Dividing by the standard deviation of the data.\n",
    "\n",
    "This process helps to standardize the data, making it easier to analyze or input into machine learning models. Mathematically, normalization can be expressed as:\n",
    "\n",
    "`Z = (𝑋−x̄) / 𝜎`\n",
    "\n",
    "where:\n",
    "- *X*  is the original data,\n",
    "- *x̄* is the mean of the data,\n",
    "- *𝜎* is the standard deviation of the data.\n",
    "\n",
    "#### Task:\n",
    "- Create a random 5 x 5 NumPy array and store it in a variable `X`.\n",
    "- Normalize the array `X` by centering and scaling it.\n",
    "- Save the normalized array to a file named `X_normalized.npy`.\n",
    "\n",
    "#### Example:\n",
    "To help understand the process, consider the following example:\n",
    "- If `X = [1, 2, 3, 4, 5]`, then the mean x̄ = `3.0` and standard deviation 𝜎 = `1.4142135623730951`.\n",
    "- The normalized values *Z* would be `[-1.41421356 -0.70710678  0.  0.70710678  1.41421356]`.\n",
    "\n",
    "#### Expected Output:\n",
    "- The normalized array should have a mean of approximately 0 and a standard deviation of 1.\n",
    "\n",
    "Use Python's `.mean()` and `.std()` functions to calculate the mean and standard deviation element-wise.\n"
   ]
  },
  {
   "cell_type": "code",
   "execution_count": 116,
   "id": "0352b534-4f0e-49e1-8ba3-e0acdb1e6f6a",
   "metadata": {},
   "outputs": [],
   "source": [
    "import numpy as np\n",
    "#import the numpy library"
   ]
  },
  {
   "cell_type": "code",
   "execution_count": 118,
   "id": "dae5d1f0-f8da-450c-80d1-0466a648fa0f",
   "metadata": {},
   "outputs": [],
   "source": [
    "X = np.random.random((5,5))\n",
    "#generate random values for a 5x5 array"
   ]
  },
  {
   "cell_type": "code",
   "execution_count": 120,
   "id": "86ef5a0b-def0-4733-926b-d6c74a2524a0",
   "metadata": {},
   "outputs": [],
   "source": [
    "mean = X.mean()\n",
    "#calculate the mean of array X"
   ]
  },
  {
   "cell_type": "code",
   "execution_count": 122,
   "id": "917d25d7-ad9d-4de6-9bed-2703faeca820",
   "metadata": {},
   "outputs": [],
   "source": [
    "std = X.std()\n",
    "#calculate the standard deviation of array X"
   ]
  },
  {
   "cell_type": "code",
   "execution_count": 124,
   "id": "6a6ca085-ce7f-45ad-997b-bcbea189e549",
   "metadata": {},
   "outputs": [],
   "source": [
    "Z = (X - mean) / std\n",
    "#normalize array X by inputting the data above"
   ]
  },
  {
   "cell_type": "code",
   "execution_count": 126,
   "id": "abe21739-0155-4aed-9afc-98291c1ceff6",
   "metadata": {},
   "outputs": [
    {
     "name": "stdout",
     "output_type": "stream",
     "text": [
      "Original Matrix:\n",
      "\n",
      " [[0.75737883 0.18731579 0.43147408 0.86873342 0.83872992]\n",
      " [0.92182079 0.21946684 0.00177271 0.88466284 0.47948613]\n",
      " [0.11233381 0.37958051 0.07114482 0.58481923 0.74394847]\n",
      " [0.48048881 0.29543701 0.30282077 0.16961256 0.94667521]\n",
      " [0.69785238 0.61962671 0.49635285 0.47100172 0.67345306]]\n"
     ]
    }
   ],
   "source": [
    "print(\"Original Matrix:\\n\\n\", X)\n",
    "#show the original matrix X"
   ]
  },
  {
   "cell_type": "code",
   "execution_count": 128,
   "id": "26b3aae7-a011-4bcc-a5de-46bfa71378f6",
   "metadata": {},
   "outputs": [
    {
     "name": "stdout",
     "output_type": "stream",
     "text": [
      "Normalized Matrix:\n",
      "\n",
      "  [[ 0.89943735 -1.13571979 -0.26406095  1.29697947  1.1898653 ]\n",
      " [ 1.4865044  -1.02093875 -1.79811902  1.35384841 -0.09265525]\n",
      " [-1.40340968 -0.44932391 -1.55045669  0.28338983  0.8514902 ]\n",
      " [-0.08907563 -0.74972096 -0.72336053 -1.19892131  1.57523604]\n",
      " [ 0.68692455  0.40765451 -0.03244011 -0.12294507  0.5998176 ]]\n"
     ]
    }
   ],
   "source": [
    "print (\"Normalized Matrix:\\n\\n \", Z)\n",
    "#show the normalized matrix Z"
   ]
  },
  {
   "cell_type": "code",
   "execution_count": 130,
   "id": "08a8f7b9-9518-4d1c-b908-cb40e08c3559",
   "metadata": {},
   "outputs": [],
   "source": [
    "np.save('X_normalized.npy', X)\n",
    "#save array X to a file named \"X_normalized.npy\""
   ]
  },
  {
   "cell_type": "code",
   "execution_count": 132,
   "id": "c474a639-e309-459d-9652-43c344b60c34",
   "metadata": {},
   "outputs": [
    {
     "data": {
      "text/plain": [
       "array([[0.75737883, 0.18731579, 0.43147408, 0.86873342, 0.83872992],\n",
       "       [0.92182079, 0.21946684, 0.00177271, 0.88466284, 0.47948613],\n",
       "       [0.11233381, 0.37958051, 0.07114482, 0.58481923, 0.74394847],\n",
       "       [0.48048881, 0.29543701, 0.30282077, 0.16961256, 0.94667521],\n",
       "       [0.69785238, 0.61962671, 0.49635285, 0.47100172, 0.67345306]])"
      ]
     },
     "execution_count": 132,
     "metadata": {},
     "output_type": "execute_result"
    }
   ],
   "source": [
    "data = np.load('X_normalized.npy')\n",
    "data\n",
    "#load the saved array file"
   ]
  },
  {
   "cell_type": "markdown",
   "id": "b0f9e993-7741-4abc-bb01-d612a3b41870",
   "metadata": {},
   "source": [
    "## Problem 2: Divisible by 3 Problem\n",
    "\n",
    "In this problem, you will create a 10 x 10 NumPy array `A` that contains the squares of the first 100 positive integers.\n",
    "\n",
    "### Task:\n",
    "1.   Create a 10 x 10 ndarray `A` such that:\n",
    "- The first row contains the squares of the integers from 1 to 10.\n",
    "- The second row contains the squares of the integers from 11 to 20, and so on.\n",
    "   \n",
    "2.   Find all elements in this ndarray that are divisible by 3.\n",
    "3.   Save the resulting array to a file named `div_by_3.npy`.\n",
    "\n",
    "### Example:\n",
    "               A = \n",
    "     [1    4    ⋯   81    100\n",
    "      ⋮     ⋮    ⋱    ⋮      ⋮\n",
    "      ⋮     ⋮    ⋱    ⋮      ⋮ \n",
    "      ⋮     ⋮    ⋱    ⋮      ⋮\n",
    "    8281  8464  ⋯  9801  10000]\n",
    "\n",
    "\n",
    "### Finding Elements Divisible by 3:\n",
    "- To determine which elements are divisible by 3, you can use the modulus operator `%` in Python.\n",
    "- For example, if `A = [1, 4, 9, 16]`, elements divisible by 3 are `[9]`.\n",
    "\n",
    "### Expected Output:\n",
    "- A 1D array of elements from `A` that are divisible by 3, saved as `div_by_3.npy`."
   ]
  },
  {
   "cell_type": "code",
   "execution_count": 114,
   "id": "e7570919-407b-4c18-b15c-42761f73ffca",
   "metadata": {},
   "outputs": [],
   "source": [
    "import numpy as np\n",
    "#import the numpy library"
   ]
  },
  {
   "cell_type": "code",
   "execution_count": 140,
   "id": "31407806-8199-46ef-8f49-b46eb8329534",
   "metadata": {},
   "outputs": [],
   "source": [
    "A = np.arange(1,101).reshape(10,10)**2\n",
    "#create a 10x10 array with the squares of the first 100 positive integers"
   ]
  },
  {
   "cell_type": "code",
   "execution_count": 15,
   "id": "ebb0c92d-7e20-4ab6-8f28-9cf8084cac4e",
   "metadata": {},
   "outputs": [],
   "source": [
    "Y = A[A % 3 == 0]\n",
    "#determine if the element is divisible by 3"
   ]
  },
  {
   "cell_type": "code",
   "execution_count": 134,
   "id": "e05e95c7-4ee5-4547-8718-382e033e469e",
   "metadata": {},
   "outputs": [
    {
     "name": "stdout",
     "output_type": "stream",
     "text": [
      "Original Matrix: \n",
      " [1 2 3 4 5]\n"
     ]
    }
   ],
   "source": [
    "print(\"Original Matrix: \\n\", A)\n",
    "#print the original matrix A"
   ]
  },
  {
   "cell_type": "code",
   "execution_count": 136,
   "id": "1b773944-6392-4125-b19f-aed9b522c6b1",
   "metadata": {},
   "outputs": [
    {
     "name": "stdout",
     "output_type": "stream",
     "text": [
      "Divisible by 3 Matrix: \n",
      " [-1.41421356 -0.70710678  0.          0.70710678  1.41421356]\n"
     ]
    }
   ],
   "source": [
    "print(\"Divisible by 3 Matrix: \\n\", Y)\n",
    "#print the divisible by 3 matrix Y"
   ]
  },
  {
   "cell_type": "code",
   "execution_count": 18,
   "id": "827815e5-73c3-466c-bf63-d48093c9f643",
   "metadata": {},
   "outputs": [],
   "source": [
    "np.save('div_by_3.npy', Y)\n",
    "#save array Y to a file named \"div_by_3.npy\""
   ]
  },
  {
   "cell_type": "code",
   "execution_count": 138,
   "id": "05fc072b-fd76-4230-accf-79b8d367af9d",
   "metadata": {},
   "outputs": [
    {
     "data": {
      "text/plain": [
       "array([   9,   36,   81,  144,  225,  324,  441,  576,  729,  900, 1089,\n",
       "       1296, 1521, 1764, 2025, 2304, 2601, 2916, 3249, 3600, 3969, 4356,\n",
       "       4761, 5184, 5625, 6084, 6561, 7056, 7569, 8100, 8649, 9216, 9801])"
      ]
     },
     "execution_count": 138,
     "metadata": {},
     "output_type": "execute_result"
    }
   ],
   "source": [
    "data = np.load('div_by_3.npy')\n",
    "data\n",
    "#load the saved array file"
   ]
  }
 ],
 "metadata": {
  "kernelspec": {
   "display_name": "Python 3 (ipykernel)",
   "language": "python",
   "name": "python3"
  },
  "language_info": {
   "codemirror_mode": {
    "name": "ipython",
    "version": 3
   },
   "file_extension": ".py",
   "mimetype": "text/x-python",
   "name": "python",
   "nbconvert_exporter": "python",
   "pygments_lexer": "ipython3",
   "version": "3.12.4"
  }
 },
 "nbformat": 4,
 "nbformat_minor": 5
}
